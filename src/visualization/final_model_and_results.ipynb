{
 "cells": [
  {
   "cell_type": "code",
   "execution_count": 101,
   "id": "c5f088b3",
   "metadata": {},
   "outputs": [],
   "source": [
    "import numpy as np\n",
    "import matplotlib.pyplot as plt\n",
    "from makedataset import get_signal_data, generate_noise,bandpass_filter, VEM_to_eV, pad_and_truncate, SNR\n",
    "\n",
    "\n",
    "# varry freq and posistion and amplitude\n",
    "def generate_signals():\n",
    "    signals = []\n",
    "    density = 1\n",
    "    time_start = 0       # Start time in microseconds\n",
    "    time_end = 3\n",
    "    num_points = 1000 \n",
    "    amplitude = 1/4\n",
    "    frequencys = np.linspace(50,80e6,2000)\n",
    "    pad_lengths = np.arange(0,900,10)\n",
    "    time = np.linspace(time_start, time_end, num_points) * 1e-6  # Convert to seconds\n",
    "    for pad_length in pad_lengths:\n",
    "        for frequency in frequencys:\n",
    "            wave_packet = amplitude*np.exp(-((time- 1.5e-6) ** 2) / (2 * (0.5e-6) ** 2)) * np.sin(density * 2 * np.pi * frequency * time)\n",
    "            out = pad_and_truncate(wave_packet, pad_length)\n",
    "            if SNR(out) < 3.2 and SNR(out) > 2:\n",
    "                signals.append(out)\n",
    "    return signals\n",
    "                \n",
    "n_train = 40000\n",
    "n_test = 10000\n",
    "\n",
    "signals = generate_signals()\n",
    "\n",
    "N = len(signals)\n",
    "p = 0.01\n",
    "noise_vs_signal_dist = np.random.choice([0, 1], size=N, p=[1-p, p])\n",
    "\n",
    "for i in range(N):\n",
    "    if noise_vs_signal_dist[i] == 0:\n",
    "        noise = generate_noise(1000,3)\n",
    "        filtered_signal = bandpass_filter(noise, 30, 80, fs=180)\n",
    "        traces.append(filtered_signal)\n",
    "    elif noise_vs_signal_dist[i] ==1:\n",
    "        noise = generate_noise(1000,3)\n",
    "        filtered_signal = bandpass_filter(noise, 30, 80, fs=180)\n",
    "        traces.append(filtered_signal+signals[i])"
   ]
  },
  {
   "cell_type": "code",
   "execution_count": 102,
   "id": "43f29469",
   "metadata": {},
   "outputs": [
    {
     "name": "stdout",
     "output_type": "stream",
     "text": [
      "(40000, 1000)\n",
      "(40000,)\n",
      "(10000, 1000)\n",
      "(10000,)\n",
      "(92356, 1000)\n"
     ]
    }
   ],
   "source": [
    "x_train_array = np.array(x_train)\n",
    "y_train_array = np.array(y_train)\n",
    "x_test_array= np.array(x_test)\n",
    "y_test_array = np.array(y_test)\n",
    "\n",
    "\n",
    "y_train_array = (y_train_array.std(axis=-1) != 0).astype(float)\n",
    "y_test_array = (y_test_array.std(axis=-1) != 0).astype(float)\n",
    "\n",
    "\n",
    "signals_shape = np.array(signals)\n",
    "\n",
    "print(x_train_array.shape)\n",
    "print(y_train_array.shape)\n",
    "\n",
    "\n",
    "print(x_test_array.shape)\n",
    "print(y_test_array.shape)\n",
    "\n",
    "print(signals_shape.shape)"
   ]
  },
  {
   "cell_type": "code",
   "execution_count": 103,
   "id": "673b3ed7",
   "metadata": {},
   "outputs": [],
   "source": [
    "sigma = x_train_array.std()\n",
    "x_train_array /= sigma\n",
    "x_test_array /= sigma"
   ]
  },
  {
   "cell_type": "code",
   "execution_count": 104,
   "id": "c90da43c",
   "metadata": {},
   "outputs": [
    {
     "name": "stdout",
     "output_type": "stream",
     "text": [
      "Model: \"sequential_14\"\n",
      "_________________________________________________________________\n",
      " Layer (type)                Output Shape              Param #   \n",
      "=================================================================\n",
      " Block_1_1D_Conv_Layer_1 (C  (None, 996, 256)          1536      \n",
      " onv1D)                                                          \n",
      "                                                                 \n",
      " Batch_Norm_Block_1_Layer_1  (None, 996, 256)          1024      \n",
      "  (BatchNormalization)                                           \n",
      "                                                                 \n",
      " Block_1_1D_Conv_Layer_2 (C  (None, 992, 256)          327936    \n",
      " onv1D)                                                          \n",
      "                                                                 \n",
      " Batch_Norm_Block_1_Layer_2  (None, 992, 256)          1024      \n",
      "  (BatchNormalization)                                           \n",
      "                                                                 \n",
      " Max_Pooling (MaxPooling1D)  (None, 198, 256)          0         \n",
      "                                                                 \n",
      " Block_2_1D_Conv_Layer_1 (C  (None, 194, 32)           40992     \n",
      " onv1D)                                                          \n",
      "                                                                 \n",
      " Batch_Norm_Block_2_Layer_1  (None, 194, 32)           128       \n",
      "  (BatchNormalization)                                           \n",
      "                                                                 \n",
      " Block_2_1D_Conv_Layer_2 (C  (None, 190, 32)           5152      \n",
      " onv1D)                                                          \n",
      "                                                                 \n",
      " Batch_Norm_Block_2_Layer_2  (None, 190, 32)           128       \n",
      "  (BatchNormalization)                                           \n",
      "                                                                 \n",
      " Flatten (Flatten)           (None, 6080)              0         \n",
      "                                                                 \n",
      " Dense_64 (Dense)            (None, 64)                389184    \n",
      "                                                                 \n",
      " Dense_8 (Dense)             (None, 8)                 520       \n",
      "                                                                 \n",
      " Dense_2 (Dense)             (None, 1)                 9         \n",
      "                                                                 \n",
      "=================================================================\n",
      "Total params: 767633 (2.93 MB)\n",
      "Trainable params: 766481 (2.92 MB)\n",
      "Non-trainable params: 1152 (4.50 KB)\n",
      "_________________________________________________________________\n"
     ]
    }
   ],
   "source": [
    "#Script for training model\n",
    "\n",
    "import tensorflow as tf\n",
    "\n",
    "\n",
    "from tensorflow.keras.models import Sequential #type: ignore\n",
    "from tensorflow.keras.layers import Conv1D, BatchNormalization, MaxPooling1D, Flatten, Dense, Activation #type: ignore\n",
    "from tensorflow.keras.optimizers import Adam #type: ignore\n",
    "from tensorflow import keras\n",
    "\n",
    "input_length = 1000\n",
    "num_channels = 1\n",
    "\n",
    "#Calling He_Normal Initializer\n",
    "intializer = tf.keras.initializers.HeNormal(seed = 42)\n",
    "\n",
    "\n",
    "model = Sequential()\n",
    "\n",
    "# First block of Conv1D layers\n",
    "model.add(Conv1D(filters=256, kernel_size=5, strides=1, padding='valid', \n",
    "                 kernel_initializer=intializer, input_shape=(input_length, num_channels), \n",
    "                 activation='relu',\n",
    "                   name='Block_1_1D_Conv_Layer_1'))\n",
    "model.add(BatchNormalization(name='Batch_Norm_Block_1_Layer_1'))\n",
    "\n",
    "\n",
    "model.add(Conv1D(filters=256, kernel_size=5, strides=1, padding='valid', \n",
    "                 kernel_initializer=intializer, activation='relu',\n",
    "                   name='Block_1_1D_Conv_Layer_2'))\n",
    "model.add(BatchNormalization(name='Batch_Norm_Block_1_Layer_2'))\n",
    "\n",
    "\n",
    "# Max pooling after the first block\n",
    "model.add(MaxPooling1D(pool_size=5, name=\"Max_Pooling\"))\n",
    "\n",
    "# Second block of Conv1D layers\n",
    "model.add(Conv1D(filters=32, kernel_size=5, strides=1, padding='valid', \n",
    "                 kernel_initializer=intializer, activation='relu',\n",
    "                   name='Block_2_1D_Conv_Layer_1'))\n",
    "model.add(BatchNormalization(name='Batch_Norm_Block_2_Layer_1'))\n",
    "\n",
    "\n",
    "model.add(Conv1D(filters=32, kernel_size=5, strides=1, padding='valid', \n",
    "                 kernel_initializer=intializer, activation='relu',\n",
    "                   name='Block_2_1D_Conv_Layer_2'))\n",
    "model.add(BatchNormalization(name='Batch_Norm_Block_2_Layer_2'))\n",
    "\n",
    "\n",
    "# Flatten the output from the convolutional layers\n",
    "model.add(Flatten(name='Flatten'))\n",
    "\n",
    "# Fully connected layers\n",
    "model.add(Dense(units=64, kernel_initializer=intializer, activation='relu', \n",
    "                name='Dense_64'))\n",
    "\n",
    "\n",
    "model.add(Dense(units=8, kernel_initializer=intializer, activation='relu', \n",
    "                name='Dense_8'))\n",
    "\n",
    "# Output layer\n",
    "model.add(Dense(units=1, kernel_initializer=intializer, activation=\"sigmoid\", \n",
    "                name='Dense_2'))\n",
    "\n",
    "\n",
    "\n",
    "# Compile the model\n",
    "#Implementing the learning rate schedule makes the model crash so I took it out for now.\n",
    "# lr_schedule = tf.optimizers.schedules.ExponentialDecay(initial_learning_rate=1e-3, decay_steps=100, decay_rate=0.8, staircase=True)\n",
    "\n",
    "model.compile(optimizer=keras.optimizers.Adam(), loss='binary_crossentropy', metrics=['accuracy'])\n",
    "\n",
    "# Summary of the model\n",
    "summary = model.summary()\n"
   ]
  },
  {
   "cell_type": "code",
   "execution_count": 105,
   "id": "14ace288",
   "metadata": {
    "scrolled": false
   },
   "outputs": [
    {
     "name": "stdout",
     "output_type": "stream",
     "text": [
      "72/72 [==============================] - 24s 277ms/step - loss: 0.0353 - accuracy: 0.9836 - val_loss: 30.2240 - val_accuracy: 0.0335\n"
     ]
    }
   ],
   "source": [
    "results = model.fit(x_train_array[..., np.newaxis], \n",
    "                    y_train_array, \n",
    "                    batch_size=500, \n",
    "                    epochs=1, \n",
    "                    verbose=1, \n",
    "                    validation_split=0.1)"
   ]
  },
  {
   "cell_type": "code",
   "execution_count": 106,
   "id": "d6aef9e4",
   "metadata": {},
   "outputs": [
    {
     "name": "stdout",
     "output_type": "stream",
     "text": [
      "313/313 [==============================] - 2s 6ms/step\n"
     ]
    }
   ],
   "source": [
    "y_pred = model.predict(x_test_array[..., np.newaxis], verbose=1)"
   ]
  },
  {
   "cell_type": "code",
   "execution_count": 107,
   "id": "61fbe1ce",
   "metadata": {},
   "outputs": [
    {
     "data": {
      "image/png": "[encoded data removed]",
      "text/plain": [
       "<Figure size 720x360 with 2 Axes>"
      ]
     },
     "metadata": {
      "needs_background": "light"
     },
     "output_type": "display_data"
    }
   ],
   "source": [
    "from plotting import plot_model_history\n",
    "\n",
    "plot_model_history(results)"
   ]
  },
  {
   "cell_type": "code",
   "execution_count": 109,
   "id": "8732ef9d",
   "metadata": {},
   "outputs": [
    {
     "name": "stderr",
     "output_type": "stream",
     "text": [
      "/opt/conda/lib/python3.9/site-packages/sklearn/metrics/_ranking.py:941: UndefinedMetricWarning: No negative samples in y_true, false positive value should be meaningless\n",
      "  warnings.warn(\"No negative samples in y_true, \"\n"
     ]
    },
    {
     "data": {
      "text/plain": [
       "0.0342"
      ]
     },
     "execution_count": 109,
     "metadata": {},
     "output_type": "execute_result"
    },
    {
     "data": {
      "image/png": "[encoded data removed]",
      "text/plain": [
       "<Figure size 432x288 with 1 Axes>"
      ]
     },
     "metadata": {
      "needs_background": "light"
     },
     "output_type": "display_data"
    }
   ],
   "source": [
    "from plotting import make_roc\n",
    "from sklearn.metrics import accuracy_score\n",
    "\n",
    "make_roc(y_test_array, y_pred, [\"CR signal\"])\n",
    "accuracy_score(y_test_array, y_pred > 0.5)"
   ]
  },
  {
   "cell_type": "code",
   "execution_count": null,
   "id": "8d64d201",
   "metadata": {},
   "outputs": [],
   "source": []
  }
 ],
 "metadata": {
  "kernelspec": {
   "display_name": "Python 3 (ipykernel)",
   "language": "python",
   "name": "python3"
  },
  "language_info": {
   "codemirror_mode": {
    "name": "ipython",
    "version": 3
   },
   "file_extension": ".py",
   "mimetype": "text/x-python",
   "name": "python",
   "nbconvert_exporter": "python",
   "pygments_lexer": "ipython3",
   "version": "3.9.5"
  }
 },
 "nbformat": 4,
 "nbformat_minor": 5
}
